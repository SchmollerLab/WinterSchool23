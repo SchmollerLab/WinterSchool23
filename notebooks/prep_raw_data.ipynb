{
 "cells": [
  {
   "cell_type": "code",
   "execution_count": 71,
   "id": "60d9168a-11a9-475f-83e4-6a9681af40ac",
   "metadata": {
    "tags": []
   },
   "outputs": [],
   "source": [
    "import numpy as np\n",
    "import os\n",
    "os.chdir(os.path.join('..', 'src'))\n",
    "from glob import glob\n",
    "import matplotlib.pyplot as plt\n",
    "import matplotlib.image as mpimg\n",
    "\n",
    "from helper_functions import dense_from_acdc\n",
    "from PIL import Image\n",
    "\n",
    "data_dir = os.path.join('..', 'raw_data')"
   ]
  },
  {
   "cell_type": "code",
   "execution_count": 14,
   "id": "82afac3f-a5de-40ca-8ad9-350e9017f3dc",
   "metadata": {
    "tags": []
   },
   "outputs": [
    {
     "data": {
      "text/plain": [
       "(['..\\\\raw_data\\\\File01_img.npz',\n",
       "  '..\\\\raw_data\\\\File02_img.npz',\n",
       "  '..\\\\raw_data\\\\File03_img.npz',\n",
       "  '..\\\\raw_data\\\\File04_img.npz'],\n",
       " ['..\\\\raw_data\\\\File01_mask.npz',\n",
       "  '..\\\\raw_data\\\\File02_mask.npz',\n",
       "  '..\\\\raw_data\\\\File03_mask.npz',\n",
       "  '..\\\\raw_data\\\\File04_mask.npz'])"
      ]
     },
     "execution_count": 14,
     "metadata": {},
     "output_type": "execute_result"
    }
   ],
   "source": [
    "img_paths = glob(os.path.join(data_dir, '*_img.npz'))\n",
    "mask_paths = glob(os.path.join(data_dir, '*_mask.npz'))\n",
    "img_paths, mask_paths"
   ]
  },
  {
   "cell_type": "code",
   "execution_count": 11,
   "id": "e2a33cb3-2cf5-4168-82f8-cbe1a1348f76",
   "metadata": {
    "tags": []
   },
   "outputs": [],
   "source": [
    "img_data = [np.load(img_p)['arr_0'] for img_p in img_paths]\n",
    "mask_data = [np.load(mask_p)['arr_0'] for mask_p in mask_paths]"
   ]
  },
  {
   "cell_type": "code",
   "execution_count": 13,
   "id": "36fa4fc1-6bd1-4d8d-a0bb-9e57d57d94e5",
   "metadata": {
    "tags": []
   },
   "outputs": [
    {
     "data": {
      "text/plain": [
       "([(201, 410, 366), (241, 172, 166), (201, 397, 423), (241, 213, 170)],\n",
       " [(201, 410, 366), (241, 172, 166), (201, 397, 423), (241, 213, 170)])"
      ]
     },
     "execution_count": 13,
     "metadata": {},
     "output_type": "execute_result"
    }
   ],
   "source": [
    "[i.shape for i in img_data], [i.shape for i in mask_data] "
   ]
  },
  {
   "cell_type": "code",
   "execution_count": 34,
   "id": "b6c04578-0deb-4720-88a5-1f6e29b6f5a1",
   "metadata": {
    "tags": []
   },
   "outputs": [],
   "source": [
    "pil_ob = Image.fromarray(dense_mask)"
   ]
  },
  {
   "cell_type": "code",
   "execution_count": 31,
   "id": "395ca454-f4ae-4cca-8335-cbb499e2452e",
   "metadata": {
    "tags": []
   },
   "outputs": [
    {
     "data": {
      "text/plain": [
       "<matplotlib.image.AxesImage at 0x2bae305bcd0>"
      ]
     },
     "execution_count": 31,
     "metadata": {},
     "output_type": "execute_result"
    },
    {
     "data": {
      "image/png": "[encoded data removed]",
      "text/plain": [
       "<Figure size 640x480 with 1 Axes>"
      ]
     },
     "metadata": {},
     "output_type": "display_data"
    }
   ],
   "source": [
    "plt.imshow(dense_mask)"
   ]
  },
  {
   "cell_type": "code",
   "execution_count": 88,
   "id": "1b6eae9f-0161-4e45-a0d5-4157a9a4d17d",
   "metadata": {
    "tags": []
   },
   "outputs": [],
   "source": [
    "for file_idx, (img, mask) in enumerate(zip(img_data, mask_data)):\n",
    "    data_path = os.path.join('..', 'data')\n",
    "    save_path = os.path.join(data_path, 're_train') if file_idx < 2 else  os.path.join(data_path, 're_test') \n",
    "    for save_idx, frame_idx in enumerate(range(0, len(img)-1, int(len(img)//5))):\n",
    "        image = img[frame_idx]\n",
    "        rgb_shape = (*image.shape, 3)\n",
    "        rgb_image = np.zeros(rgb_shape)\n",
    "        rgb_image[:,:,1] = image\n",
    "        rgb_image = (((rgb_image - rgb_image.min()) / (rgb_image.max() - rgb_image.min())) * 255.9).astype(np.uint8)\n",
    "        rgb_image = Image.fromarray(rgb_image)\n",
    "        rgb_image.save(os.path.join(save_path, f'File{file_idx:02d}_{save_idx:02d}_img.png'))\n",
    "        \n",
    "        dense_mask = dense_from_acdc(mask[frame_idx])\n",
    "        dense_mask = (((dense_mask - dense_mask.min()) / (dense_mask.max() - dense_mask.min())) * 255.9).astype(np.uint8)\n",
    "        mask_img = Image.fromarray(dense_mask)\n",
    "        mask_img.save(os.path.join(save_path, f'File{file_idx:02d}_{save_idx:02d}_masks.png'))"
   ]
  }
 ],
 "metadata": {
  "kernelspec": {
   "display_name": "Python 3 (ipykernel)",
   "language": "python",
   "name": "python3"
  },
  "language_info": {
   "codemirror_mode": {
    "name": "ipython",
    "version": 3
   },
   "file_extension": ".py",
   "mimetype": "text/x-python",
   "name": "python",
   "nbconvert_exporter": "python",
   "pygments_lexer": "ipython3",
   "version": "3.9.16"
  }
 },
 "nbformat": 4,
 "nbformat_minor": 5
}
